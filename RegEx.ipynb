{
 "cells": [
  {
   "cell_type": "code",
   "execution_count": 10,
   "id": "72bee61d",
   "metadata": {},
   "outputs": [
    {
     "name": "stdout",
     "output_type": "stream",
     "text": [
      "['The']\n",
      "Yes, there is a match!\n"
     ]
    }
   ],
   "source": [
    "#A RegEx is a powerful tool for matching text, based on a pre-defined\n",
    "#pattern.\n",
    "#It can detect the presence or absence of a text by matching it with a\n",
    "#particular pattern,\n",
    "#and also can split a pattern into one or more sub-patterns.\n",
    "#The Python standard library provides a re module for regular\n",
    "#expressions. Its primary function is to offer a search,\n",
    "#where it takes a regular expression and a string. Here, it either\n",
    "#returns the first match or else none.\n",
    "\n",
    "#\\w – matches a word character\n",
    "#\\d – matches digit character\n",
    "#\\s – matches whitespace character (space, tab, newline, etc.)\n",
    "#\\b – matches a zero-length character\n",
    "#\\A Returns a match if the specified characters are at the beginning\n",
    "#of the string\n",
    "\n",
    "\n",
    "import re\n",
    "\n",
    "txt = \"The rain in Spain\"\n",
    "\n",
    "#Check if the string start with \"The\":\n",
    "\n",
    "x = re.findall(\"\\AThe\", txt)\n",
    "\n",
    "print(x)\n",
    "\n",
    "if x:\n",
    "    print(\"Yes, there is a match!\")\n",
    "else:\n",
    "    print(\"No match\")\n"
   ]
  },
  {
   "cell_type": "code",
   "execution_count": 23,
   "id": "f77aeb3a",
   "metadata": {},
   "outputs": [
    {
     "name": "stdout",
     "output_type": "stream",
     "text": [
      "<re.Match object; span=(21, 27), match='portal'>\n",
      "portal\n",
      "Start Index: 21\n",
      "End Index: 27\n"
     ]
    }
   ],
   "source": [
    "match = re.search(r'portal','A computer science \\ portal for Education')\n",
    "\n",
    "print(match)\n",
    "print(match.group())\n",
    "\n",
    "print('Start Index:', match.start())\n",
    "print('End Index:', match.end())"
   ]
  },
  {
   "cell_type": "code",
   "execution_count": 38,
   "id": "fa5d3c84",
   "metadata": {},
   "outputs": [
    {
     "name": "stdout",
     "output_type": "stream",
     "text": [
      "['Education', 'education', 'education']\n"
     ]
    }
   ],
   "source": [
    "#\\ use to drop special meaning of character following it\n",
    "#[] Represent a character class\n",
    "#^ Matches the end\n",
    "#$ Matches the beginning\n",
    "#| Means OR (Matches with any of the characters separated by it.\n",
    "#? Matches zero or one occurrence\n",
    "#* Any number of occurrences (including 0 occurrences)\n",
    "#+ One or more occurrences\n",
    "#{} Indicate the number of occurrences of a preceding RegEx to match.\n",
    "#() Enclose a group of RegEx\n",
    "\n",
    "print(re.findall(r'[Ee]ducation', 'Educations of education: \\ A computer science for education'))"
   ]
  },
  {
   "cell_type": "code",
   "execution_count": 52,
   "id": "d6742876",
   "metadata": {},
   "outputs": [
    {
     "name": "stdout",
     "output_type": "stream",
     "text": [
      "Range <re.Match object; span=(0, 1), match='x'>\n"
     ]
    }
   ],
   "source": [
    "print('Range', re.search(r'[a-zA-Z]', 'x'))"
   ]
  },
  {
   "cell_type": "code",
   "execution_count": 48,
   "id": "75996eef",
   "metadata": {},
   "outputs": [
    {
     "name": "stdout",
     "output_type": "stream",
     "text": [
      "<re.Match object; span=(11, 16), match='Users'>\n"
     ]
    }
   ],
   "source": [
    "import re\n",
    "\n",
    "# Without r prefix\n",
    "pattern = 'Users'\n",
    "string = 'file:///C:/Users/Rohan/Downloads/RegExp.pdf'\n",
    "\n",
    "match = re.search(pattern, string)\n",
    "print(match)"
   ]
  },
  {
   "cell_type": "code",
   "execution_count": 49,
   "id": "6c576303",
   "metadata": {},
   "outputs": [
    {
     "name": "stdout",
     "output_type": "stream",
     "text": [
      "3\n",
      "4\n",
      "5\n"
     ]
    }
   ],
   "source": [
    "x = range(3,6)\n",
    "for n in x:\n",
    "    print(n)\n"
   ]
  },
  {
   "cell_type": "code",
   "execution_count": 53,
   "id": "93992e00",
   "metadata": {},
   "outputs": [
    {
     "name": "stdout",
     "output_type": "stream",
     "text": [
      "3\n",
      "5\n",
      "7\n",
      "9\n",
      "11\n",
      "13\n",
      "15\n",
      "17\n",
      "19\n"
     ]
    }
   ],
   "source": [
    "x = range(3,20,2)\n",
    "for n in x:\n",
    "    print(n)"
   ]
  },
  {
   "cell_type": "code",
   "execution_count": 55,
   "id": "67382f06",
   "metadata": {},
   "outputs": [
    {
     "name": "stdout",
     "output_type": "stream",
     "text": [
      "<re.Match object; span=(0, 1), match='Q'>\n"
     ]
    }
   ],
   "source": [
    "#Negation inverts a character class. \n",
    "print(re.search(r'[^a-z]','c'))"
   ]
  },
  {
   "cell_type": "code",
   "execution_count": 58,
   "id": "ad943ee6",
   "metadata": {},
   "outputs": [
    {
     "name": "stdout",
     "output_type": "stream",
     "text": [
      "None\n"
     ]
    }
   ],
   "source": [
    "print(re.search(r'C[^l]', 'Class'))"
   ]
  },
  {
   "cell_type": "code",
   "execution_count": 61,
   "id": "630832a7",
   "metadata": {},
   "outputs": [
    {
     "name": "stdout",
     "output_type": "stream",
     "text": [
      "Beg. of String: None\n",
      "Beg. of String: <re.Match object; span=(0, 2), match='is'>\n",
      "End of String: <re.Match object; span=(28, 37), match='education'>\n"
     ]
    }
   ],
   "source": [
    "#Beginnning of String\n",
    "match = re.search(r'^is', 'This is the month')\n",
    "print('Beg. of String:', match)\n",
    "\n",
    "match = re.search(r'^is', 'is the month')\n",
    "print('Beg. of String:',match)\n",
    "\n",
    "#End of String\n",
    "match = re.search(r'education$', 'Computer science portal for education')\n",
    "print('End of String:', match)"
   ]
  },
  {
   "cell_type": "code",
   "execution_count": 62,
   "id": "6724480a",
   "metadata": {},
   "outputs": [
    {
     "name": "stdout",
     "output_type": "stream",
     "text": [
      "Any character <re.Match object; span=(0, 6), match='python'>\n"
     ]
    }
   ],
   "source": [
    "#The . character represents any single character outside a bracketed\n",
    "#character class.\n",
    "print(\"Any character\", re.search(r'p.th.n', 'python 3'))"
   ]
  },
  {
   "cell_type": "code",
   "execution_count": 64,
   "id": "8b15df99",
   "metadata": {},
   "outputs": [
    {
     "name": "stdout",
     "output_type": "stream",
     "text": [
      "Color <re.Match object; span=(0, 5), match='color'>\n",
      "Colour <re.Match object; span=(0, 6), match='colour'>\n"
     ]
    }
   ],
   "source": [
    "#Optional Characters\n",
    "#Regular expression engine allows you to specify optional characters\n",
    "#using the ? character.\n",
    "#It allows a character or character class either to present once or\n",
    "#else not to occur.\n",
    "# example of a word with an alternative spelling – color or colour.\n",
    "print('Color', re.search(r'colou?r', 'color'))\n",
    "print(\"Colour\", re.search(r'colou?r', 'colour'))"
   ]
  },
  {
   "cell_type": "code",
   "execution_count": 65,
   "id": "359171ec",
   "metadata": {},
   "outputs": [
    {
     "name": "stdout",
     "output_type": "stream",
     "text": [
      "Date{mm-dd-yyyy}: <re.Match object; span=(0, 10), match='13-07-2023'>\n"
     ]
    }
   ],
   "source": [
    "#Repetition\n",
    "#Repetition enables you to repeat the same character or character\n",
    "#class.\n",
    "#Consider an example of a date that consists of day, month, and year.\n",
    "#regular expression to identify the date (mm-dd-yyyy).\n",
    "print('Date{mm-dd-yyyy}:' ,re.search(r'[\\d]{2}-[\\d]{2}-[\\d]{4}','13-07-2023'))"
   ]
  },
  {
   "cell_type": "code",
   "execution_count": null,
   "id": "75c4b757",
   "metadata": {},
   "outputs": [],
   "source": []
  }
 ],
 "metadata": {
  "kernelspec": {
   "display_name": "Python 3",
   "language": "python",
   "name": "python3"
  },
  "language_info": {
   "codemirror_mode": {
    "name": "ipython",
    "version": 3
   },
   "file_extension": ".py",
   "mimetype": "text/x-python",
   "name": "python",
   "nbconvert_exporter": "python",
   "pygments_lexer": "ipython3",
   "version": "3.8.8"
  }
 },
 "nbformat": 4,
 "nbformat_minor": 5
}
