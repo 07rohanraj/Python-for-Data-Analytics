{
 "cells": [
  {
   "cell_type": "code",
   "execution_count": 16,
   "id": "eeac705a",
   "metadata": {},
   "outputs": [
    {
     "data": {
      "text/plain": [
       "array([ 3,  6,  9, 12, 15, 18], dtype=int64)"
      ]
     },
     "execution_count": 16,
     "metadata": {},
     "output_type": "execute_result"
    }
   ],
   "source": [
    "import pandas as pd\n",
    "\n",
    "array = [3,6,9,12,15,18]\n",
    "\n",
    "series_obj = pd.Series(array)\n",
    "\n",
    "arr = series_obj.values\n",
    "\n",
    "arr"
   ]
  },
  {
   "cell_type": "code",
   "execution_count": 17,
   "id": "587e5e03",
   "metadata": {},
   "outputs": [
    {
     "data": {
      "text/plain": [
       "array([[ 3,  6,  9],\n",
       "       [12, 15, 18]], dtype=int64)"
      ]
     },
     "execution_count": 17,
     "metadata": {},
     "output_type": "execute_result"
    }
   ],
   "source": [
    "#reshaping series\n",
    "reshaped_arr = arr.reshape((2,3))\n",
    "\n",
    "#show\n",
    "reshaped_arr"
   ]
  },
  {
   "cell_type": "code",
   "execution_count": 18,
   "id": "33864b13",
   "metadata": {},
   "outputs": [
    {
     "name": "stdout",
     "output_type": "stream",
     "text": [
      "Given Series:\n",
      " 0         Ron\n",
      "1       Harry\n",
      "2    Hermione\n",
      "3      Rachel\n",
      "4    Chandler\n",
      "5      Pheobe\n",
      "dtype: object\n"
     ]
    },
    {
     "data": {
      "text/plain": [
       "array(['Ron', 'Harry', 'Hermione', 'Rachel', 'Chandler', 'Pheobe'],\n",
       "      dtype=object)"
      ]
     },
     "execution_count": 18,
     "metadata": {},
     "output_type": "execute_result"
    }
   ],
   "source": [
    "import pandas as pd\n",
    "\n",
    "array = ['Ron', 'Harry','Hermione','Rachel','Chandler','Pheobe']\n",
    "\n",
    "series_obj = pd.Series(array)\n",
    "\n",
    "print(\"Given Series:\\n\", series_obj)\n",
    "\n",
    "arr = series_obj.values\n",
    "\n",
    "arr"
   ]
  },
  {
   "cell_type": "code",
   "execution_count": 21,
   "id": "00ed71f0",
   "metadata": {},
   "outputs": [
    {
     "name": "stdout",
     "output_type": "stream",
     "text": [
      "After Reshaping: \n",
      " [['Ron' 'Harry' 'Hermione']\n",
      " ['Rachel' 'Chandler' 'Pheobe']]\n"
     ]
    }
   ],
   "source": [
    "#reshape series\n",
    "reshaped_arr = arr.reshape((2,3))\n",
    "\n",
    "print(\"After Reshaping: \\n\", reshaped_arr)"
   ]
  },
  {
   "cell_type": "code",
   "execution_count": 23,
   "id": "8be9e92e",
   "metadata": {},
   "outputs": [],
   "source": [
    "# pandas.pivot(index, columns, values) function produces pivot table based on 3␣\n",
    "    #columns of the DataFrame.\n",
    "#Uses unique values from index / columns and fills with values.\n",
    "#Parameters:\n",
    "#index[ndarray] : Labels to use to make new frame’s index\n",
    "#columns[ndarray] : Labels to use to make new frame’s columns\n",
    "#values[ndarray] : Values to use for populating new frame’s values\n",
    "#Returns: Reshaped DataFrame\n",
    "#Exception: ValueError raised if there are any duplicates."
   ]
  },
  {
   "cell_type": "code",
   "execution_count": 24,
   "id": "22937518",
   "metadata": {},
   "outputs": [
    {
     "data": {
      "text/html": [
       "<div>\n",
       "<style scoped>\n",
       "    .dataframe tbody tr th:only-of-type {\n",
       "        vertical-align: middle;\n",
       "    }\n",
       "\n",
       "    .dataframe tbody tr th {\n",
       "        vertical-align: top;\n",
       "    }\n",
       "\n",
       "    .dataframe thead th {\n",
       "        text-align: right;\n",
       "    }\n",
       "</style>\n",
       "<table border=\"1\" class=\"dataframe\">\n",
       "  <thead>\n",
       "    <tr style=\"text-align: right;\">\n",
       "      <th></th>\n",
       "      <th>A</th>\n",
       "      <th>B</th>\n",
       "      <th>C</th>\n",
       "    </tr>\n",
       "  </thead>\n",
       "  <tbody>\n",
       "    <tr>\n",
       "      <th>0</th>\n",
       "      <td>Ron</td>\n",
       "      <td>Masters</td>\n",
       "      <td>27</td>\n",
       "    </tr>\n",
       "    <tr>\n",
       "      <th>1</th>\n",
       "      <td>Hermoine</td>\n",
       "      <td>Graduate</td>\n",
       "      <td>23</td>\n",
       "    </tr>\n",
       "    <tr>\n",
       "      <th>2</th>\n",
       "      <td>Harry</td>\n",
       "      <td>Graduate</td>\n",
       "      <td>21</td>\n",
       "    </tr>\n",
       "  </tbody>\n",
       "</table>\n",
       "</div>"
      ],
      "text/plain": [
       "          A         B   C\n",
       "0       Ron   Masters  27\n",
       "1  Hermoine  Graduate  23\n",
       "2     Harry  Graduate  21"
      ]
     },
     "execution_count": 24,
     "metadata": {},
     "output_type": "execute_result"
    }
   ],
   "source": [
    "# Create a simple dataframe\n",
    "\n",
    "# importing pandas as pd\n",
    "import pandas as pd\n",
    "\n",
    "# creating a dataframe\n",
    "df = pd.DataFrame({'A': ['Ron', 'Hermoine', 'Harry',],\n",
    "                  'B' : ['Masters', 'Graduate','Graduate'],\n",
    "                  'C' : [27, 23, 21]})\n",
    "\n",
    "df"
   ]
  },
  {
   "cell_type": "code",
   "execution_count": 7,
   "id": "bf331e46",
   "metadata": {},
   "outputs": [
    {
     "data": {
      "text/html": [
       "<div>\n",
       "<style scoped>\n",
       "    .dataframe tbody tr th:only-of-type {\n",
       "        vertical-align: middle;\n",
       "    }\n",
       "\n",
       "    .dataframe tbody tr th {\n",
       "        vertical-align: top;\n",
       "    }\n",
       "\n",
       "    .dataframe thead th {\n",
       "        text-align: right;\n",
       "    }\n",
       "</style>\n",
       "<table border=\"1\" class=\"dataframe\">\n",
       "  <thead>\n",
       "    <tr style=\"text-align: right;\">\n",
       "      <th>B</th>\n",
       "      <th>Graduate</th>\n",
       "      <th>Masters</th>\n",
       "    </tr>\n",
       "    <tr>\n",
       "      <th>A</th>\n",
       "      <th></th>\n",
       "      <th></th>\n",
       "    </tr>\n",
       "  </thead>\n",
       "  <tbody>\n",
       "    <tr>\n",
       "      <th>Boby</th>\n",
       "      <td>23.0</td>\n",
       "      <td>NaN</td>\n",
       "    </tr>\n",
       "    <tr>\n",
       "      <th>John</th>\n",
       "      <td>NaN</td>\n",
       "      <td>27.0</td>\n",
       "    </tr>\n",
       "    <tr>\n",
       "      <th>Mina</th>\n",
       "      <td>21.0</td>\n",
       "      <td>NaN</td>\n",
       "    </tr>\n",
       "  </tbody>\n",
       "</table>\n",
       "</div>"
      ],
      "text/plain": [
       "B     Graduate  Masters\n",
       "A                      \n",
       "Boby      23.0      NaN\n",
       "John       NaN     27.0\n",
       "Mina      21.0      NaN"
      ]
     },
     "execution_count": 7,
     "metadata": {},
     "output_type": "execute_result"
    }
   ],
   "source": [
    "# values can be an object or a list\n",
    "df.pivot('A', 'B', 'C')"
   ]
  },
  {
   "cell_type": "code",
   "execution_count": 9,
   "id": "86e6037f",
   "metadata": {},
   "outputs": [
    {
     "data": {
      "text/html": [
       "<div>\n",
       "<style scoped>\n",
       "    .dataframe tbody tr th:only-of-type {\n",
       "        vertical-align: middle;\n",
       "    }\n",
       "\n",
       "    .dataframe tbody tr th {\n",
       "        vertical-align: top;\n",
       "    }\n",
       "\n",
       "    .dataframe thead tr th {\n",
       "        text-align: left;\n",
       "    }\n",
       "\n",
       "    .dataframe thead tr:last-of-type th {\n",
       "        text-align: right;\n",
       "    }\n",
       "</style>\n",
       "<table border=\"1\" class=\"dataframe\">\n",
       "  <thead>\n",
       "    <tr>\n",
       "      <th></th>\n",
       "      <th colspan=\"2\" halign=\"left\">C</th>\n",
       "      <th colspan=\"2\" halign=\"left\">A</th>\n",
       "    </tr>\n",
       "    <tr>\n",
       "      <th>B</th>\n",
       "      <th>Graduate</th>\n",
       "      <th>Masters</th>\n",
       "      <th>Graduate</th>\n",
       "      <th>Masters</th>\n",
       "    </tr>\n",
       "    <tr>\n",
       "      <th>A</th>\n",
       "      <th></th>\n",
       "      <th></th>\n",
       "      <th></th>\n",
       "      <th></th>\n",
       "    </tr>\n",
       "  </thead>\n",
       "  <tbody>\n",
       "    <tr>\n",
       "      <th>Boby</th>\n",
       "      <td>23</td>\n",
       "      <td>NaN</td>\n",
       "      <td>Boby</td>\n",
       "      <td>NaN</td>\n",
       "    </tr>\n",
       "    <tr>\n",
       "      <th>John</th>\n",
       "      <td>NaN</td>\n",
       "      <td>27</td>\n",
       "      <td>NaN</td>\n",
       "      <td>John</td>\n",
       "    </tr>\n",
       "    <tr>\n",
       "      <th>Mina</th>\n",
       "      <td>21</td>\n",
       "      <td>NaN</td>\n",
       "      <td>Mina</td>\n",
       "      <td>NaN</td>\n",
       "    </tr>\n",
       "  </tbody>\n",
       "</table>\n",
       "</div>"
      ],
      "text/plain": [
       "            C                A        \n",
       "B    Graduate Masters Graduate Masters\n",
       "A                                     \n",
       "Boby       23     NaN     Boby     NaN\n",
       "John      NaN      27      NaN    John\n",
       "Mina       21     NaN     Mina     NaN"
      ]
     },
     "execution_count": 9,
     "metadata": {},
     "output_type": "execute_result"
    }
   ],
   "source": [
    "# value is a list\n",
    "df.pivot(index ='A', columns ='B', values =['C', 'A'])"
   ]
  },
  {
   "cell_type": "code",
   "execution_count": 10,
   "id": "083df2b8",
   "metadata": {},
   "outputs": [],
   "source": [
    "#the pivot table has been created for the given dataset where the\n",
    "#gender percentage has been calculated"
   ]
  },
  {
   "cell_type": "code",
   "execution_count": 11,
   "id": "86a522ba",
   "metadata": {},
   "outputs": [
    {
     "name": "stdout",
     "output_type": "stream",
     "text": [
      "Dataset\n",
      "      Name  Gender  Age\n",
      "0     John    Male   45\n",
      "1    Sammy  Female    6\n",
      "2  Stephan    Male    4\n",
      "3      Joe  Female   36\n",
      "4    Emily  Female   12\n",
      "5      Tom    Male   43\n",
      "----------------------------------------\n",
      "Table\n",
      "                          Name\n",
      "Gender %Gender Age Group      \n",
      "Female 50.0    <18           2\n",
      "               >18           1\n",
      "Male   50.0    <18           1\n",
      "               >18           2\n"
     ]
    }
   ],
   "source": [
    "import pandas as pd\n",
    "\n",
    "# creating dataframe\n",
    "df = pd.DataFrame({'Name': ['John', 'Sammy', 'Stephan', 'Joe', 'Emily', 'Tom'],\n",
    "    'Gender': ['Male', 'Female', 'Male',\n",
    "    'Female', 'Female', 'Male'],\n",
    "    'Age': [45, 6, 4, 36, 12, 43]})\n",
    "print(\"Dataset\")\n",
    "print(df)\n",
    "print(\"-\"*40)\n",
    "\n",
    "#categorizing in age groups\n",
    "def age_bucket(age):\n",
    "    if age <= 18:\n",
    "        return '<18'\n",
    "    else:\n",
    "        return '>18'\n",
    "    \n",
    "df['Age Group'] = df['Age'].apply(age_bucket)\n",
    "\n",
    "#calculating gender percentage\n",
    "gender = pd.DataFrame(df.Gender.value_counts(normalize=True)*100).reset_index()\n",
    "gender.columns = ['Gender', '%Gender']\n",
    "df = pd.merge(left=df, right=gender, how='inner', on=['Gender'])\n",
    "\n",
    "#creating pivot table\n",
    "table = pd.pivot_table(df, index=['Gender', '%Gender', 'Age Group'],\n",
    "                      values = ['Name'], aggfunc = {'Name': 'count',})\n",
    "\n",
    "print(\"Table\")\n",
    "print(table)\n",
    "\n"
   ]
  },
  {
   "cell_type": "code",
   "execution_count": null,
   "id": "a5110779",
   "metadata": {},
   "outputs": [],
   "source": []
  }
 ],
 "metadata": {
  "kernelspec": {
   "display_name": "Python 3",
   "language": "python",
   "name": "python3"
  },
  "language_info": {
   "codemirror_mode": {
    "name": "ipython",
    "version": 3
   },
   "file_extension": ".py",
   "mimetype": "text/x-python",
   "name": "python",
   "nbconvert_exporter": "python",
   "pygments_lexer": "ipython3",
   "version": "3.8.8"
  }
 },
 "nbformat": 4,
 "nbformat_minor": 5
}
