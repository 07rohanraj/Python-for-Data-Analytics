{
 "cells": [
  {
   "cell_type": "code",
   "execution_count": 2,
   "id": "e0f61247",
   "metadata": {},
   "outputs": [
    {
     "name": "stdout",
     "output_type": "stream",
     "text": [
      "Enter the number of Fibonacci terms: 5\n",
      "Fibonacci sequence: \n",
      "[0, 1, 1, 2, 3]\n"
     ]
    }
   ],
   "source": [
    "def fibonacci(n):\n",
    "    sequence = []\n",
    "    a,b = 0,1\n",
    "    \n",
    "    while len(sequence) < n:\n",
    "        sequence.append(a)\n",
    "        a,b = b, a+b\n",
    "    \n",
    "    return sequence\n",
    "\n",
    "num_terms = int(input(\"Enter the number of Fibonacci terms: \"))\n",
    "fib_sequence = fibonacci(num_terms)\n",
    "\n",
    "print(\"Fibonacci sequence: \")\n",
    "print(fib_sequence)"
   ]
  },
  {
   "cell_type": "code",
   "execution_count": 18,
   "id": "79132dc1",
   "metadata": {},
   "outputs": [
    {
     "name": "stdout",
     "output_type": "stream",
     "text": [
      "Number: 121\n",
      "Pelindrome\n"
     ]
    }
   ],
   "source": [
    "def pelindrome(n):\n",
    "    orgNum= n\n",
    "    rev = 0\n",
    "    while n != 0:\n",
    "        rem = n%10\n",
    "        rev = (rev * 10) + rem\n",
    "        n = n//10\n",
    "        \n",
    "    if orgNum == rev:\n",
    "        print(\"Pelindrome\")\n",
    "    else:\n",
    "        print(\"Not Pelindrome\")\n",
    "        \n",
    "num = int(input(\"Number: \"))\n",
    "pelindrome(num);"
   ]
  },
  {
   "cell_type": "code",
   "execution_count": 27,
   "id": "34a6f0ac",
   "metadata": {},
   "outputs": [
    {
     "name": "stdout",
     "output_type": "stream",
     "text": [
      "Number: 6\n",
      "720\n"
     ]
    }
   ],
   "source": [
    "def Factorial(n):\n",
    "    if n == 0:\n",
    "        return 1\n",
    "    else:\n",
    "        res = 1\n",
    "        while n > 0:\n",
    "            res = res * n\n",
    "            n = n-1\n",
    "        return res\n",
    "\n",
    "num = int(input(\"Number: \"))\n",
    "print(Factorial(num))"
   ]
  },
  {
   "cell_type": "code",
   "execution_count": 35,
   "id": "cb63dbc1",
   "metadata": {},
   "outputs": [
    {
     "name": "stdout",
     "output_type": "stream",
     "text": [
      "Number 1: 21\n",
      "Number 2: 28\n",
      "GCD: 7\n"
     ]
    }
   ],
   "source": [
    "def GCD(n1, n2):\n",
    "    gcd = 0\n",
    "    for i in range(1, min(n1, n2) + 1):  # Iterate from 1 to the minimum of n1 and n2\n",
    "        if n1 % i == 0 and n2 % i == 0:\n",
    "            gcd = i\n",
    "    return gcd\n",
    "\n",
    "num1 = int(input(\"Number 1: \"))\n",
    "num2 = int(input(\"Number 2: \"))\n",
    "print(\"GCD:\", GCD(num1, num2))\n"
   ]
  },
  {
   "cell_type": "code",
   "execution_count": 39,
   "id": "198eed4e",
   "metadata": {},
   "outputs": [
    {
     "name": "stdout",
     "output_type": "stream",
     "text": [
      "Number: 1648651\n",
      "7\n"
     ]
    }
   ],
   "source": [
    "#count the number of digits\n",
    "def Dig(n):\n",
    "    count = 0\n",
    "    while n != 0:\n",
    "        n = n//10\n",
    "        count = count+1\n",
    "    return count    \n",
    "    \n",
    "print(Dig(int(input('Number: '))))"
   ]
  },
  {
   "cell_type": "code",
   "execution_count": null,
   "id": "99f0eec6",
   "metadata": {},
   "outputs": [],
   "source": []
  }
 ],
 "metadata": {
  "kernelspec": {
   "display_name": "Python 3",
   "language": "python",
   "name": "python3"
  },
  "language_info": {
   "codemirror_mode": {
    "name": "ipython",
    "version": 3
   },
   "file_extension": ".py",
   "mimetype": "text/x-python",
   "name": "python",
   "nbconvert_exporter": "python",
   "pygments_lexer": "ipython3",
   "version": "3.8.8"
  }
 },
 "nbformat": 4,
 "nbformat_minor": 5
}
